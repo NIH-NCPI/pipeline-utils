{
 "cells": [
  {
   "cell_type": "code",
   "execution_count": null,
   "id": "f5724a39",
   "metadata": {},
   "outputs": [],
   "source": [
    "# REQ for jupyter file\n",
    "import os\n",
    "os.chdir('/home/gutmanb/ftd/fhir/ftd/pipeline-utils')\n"
   ]
  },
  {
   "cell_type": "code",
   "execution_count": null,
   "id": "77942d41",
   "metadata": {},
   "outputs": [],
   "source": [
    "import pandas as pd\n",
    "import numpy as np\n",
    "from IPython.display import display, HTML\n",
    "from dbt_pipeline_utils.scripts.helpers.common import *\n",
    "from dbt_pipeline_utils import logger\n",
    "from scripts.cleaning_helpers import *\n",
    "from scripts.cleaning_common import *\n"
   ]
  },
  {
   "cell_type": "code",
   "execution_count": null,
   "id": "07f596ce",
   "metadata": {},
   "outputs": [],
   "source": [
    "pd.set_option('display.max_columns', None)  # Show all columns\n",
    "pd.set_option('display.max_rows', None)     # Show all rows\n",
    "pd.set_option('display.max_colwidth', None)  # None means no limit on column width\n",
    "\n",
    "display(HTML(\"<style>.output_area pre { white-space: pre-wrap; word-wrap: break-word; }</style>\"))"
   ]
  },
  {
   "cell_type": "code",
   "execution_count": null,
   "id": "bf650fcc",
   "metadata": {},
   "outputs": [],
   "source": [
    "df_path = \"./data/input/cmg-bh/CMG_data_model_16July2020 - Fields and definitions.csv\"\n",
    "column_map = DD_FORMATS['pipeline_format'] "
   ]
  },
  {
   "cell_type": "code",
   "execution_count": null,
   "id": "23173aa8",
   "metadata": {},
   "outputs": [],
   "source": [
    "# import the data file column names\n",
    "new_column_names = ['tables',\n",
    "                    'variable_name',\n",
    "                    'description',\n",
    "                    'data_type',\n",
    "                    'field_priority',\n",
    "                    'enumerations',\n",
    "                    'multi_value_delimeter',\n",
    "                    'examples',\n",
    "                    '1']\n",
    "\n",
    "df = pd.read_csv(df_path, names=new_column_names, header=0, index_col=None)"
   ]
  },
  {
   "cell_type": "code",
   "execution_count": null,
   "id": "e3dc7429",
   "metadata": {},
   "outputs": [],
   "source": [
    "expand_rows = {}\n",
    "\n",
    "expand_rows = explode_rows_on_col_value(df,'tables',', ')\n",
    "print(expand_rows.columns)\n"
   ]
  },
  {
   "cell_type": "code",
   "execution_count": null,
   "id": "bc6c2d26",
   "metadata": {},
   "outputs": [],
   "source": [
    "# Clean tables col\n",
    "\n",
    "# distinct_tables = expand_rows['tables'].unique()\n",
    "\n",
    "expand_rows['tables']=expand_rows['tables'].str.replace('and Discovery Tables', 'Discovery') \\\n",
    "                                           .str.replace('and Sequencing', 'Sequencing')\n",
    "\n",
    "distinct_tables = expand_rows['tables'].unique()\n",
    "\n",
    "print(\"EXPECTED VALS: 'Subject', 'Sample', 'Discovery', 'Family', 'Sequencing'\")\n",
    "distinct_tables"
   ]
  },
  {
   "cell_type": "code",
   "execution_count": null,
   "id": "0e8f2bb3",
   "metadata": {},
   "outputs": [],
   "source": [
    "# clean enumerations\n",
    "\n",
    "# view = expand_rows[~expand_rows['enumerations'].isnull()]\n",
    "\n",
    "expand_rows['enumerations'] = expand_rows['enumerations'].str.replace(\"\\n\",';')\n",
    "# view = expand_rows[~expand_rows['enumerations'].isnull()]\n",
    "\n",
    "expand_rows['enums_valid'] = expand_rows['enumerations'].str.match(r'^.+(;.+)+$')\n",
    "expand_rows['enums_valid'] = expand_rows['enums_valid'].fillna(True).astype(bool)\n",
    "\n",
    "\n",
    "view = expand_rows[~expand_rows['enums_valid']]\n",
    "view.head(5)\n"
   ]
  },
  {
   "cell_type": "code",
   "execution_count": null,
   "id": "3c636d25",
   "metadata": {},
   "outputs": [],
   "source": [
    "# Separate dds\n",
    "print(distinct_tables)\n",
    "print(DD_FORMATS['pipeline_format'])\n",
    "\n",
    "\n",
    "cols = ['variable_name','description','data_type','min','max','units','enumerations','comment']\n",
    "\n",
    "expand_rows['min'] = None\n",
    "expand_rows['max'] = None\n",
    "expand_rows['units'] = None\n",
    "expand_rows['comment'] = None\n",
    "\n",
    "\n",
    "subject_dd = expand_rows[cols][expand_rows['tables'] == 'Subject']\n",
    "sample_dd = expand_rows[cols][expand_rows['tables'] == 'Sample']\n",
    "discovery_dd = expand_rows[cols][expand_rows['tables'] == 'Discovery']\n",
    "family_dd = expand_rows[cols][expand_rows['tables'] == 'Family']\n",
    "sequencing_dd = expand_rows[cols][expand_rows['tables'] == 'Sequencing']\n"
   ]
  },
  {
   "cell_type": "code",
   "execution_count": null,
   "id": "a8acd1fd",
   "metadata": {},
   "outputs": [],
   "source": [
    "\n",
    "dds= [subject_dd,sample_dd,discovery_dd,family_dd,sequencing_dd]\n",
    "output_path = 'data/output/cmg/bh'\n",
    "\n",
    "subject_dd.to_csv(f'{output_path}_subject_dd.csv', index=None)\n",
    "subject_dd.to_csv(f'{output_path}_sample_dd.csv', index=None)\n",
    "subject_dd.to_csv(f'{output_path}_discovery_dd.csv', index=None)\n",
    "subject_dd.to_csv(f'{output_path}_family_dd.csv', index=None)\n",
    "subject_dd.to_csv(f'{output_path}_sequencing_dd.csv', index=None)\n",
    "\n",
    "print(f'DDs created in data outputs.')"
   ]
  }
 ],
 "metadata": {
  "kernelspec": {
   "display_name": "Python 3",
   "language": "python",
   "name": "python3"
  },
  "language_info": {
   "codemirror_mode": {
    "name": "ipython",
    "version": 3
   },
   "file_extension": ".py",
   "mimetype": "text/x-python",
   "name": "python",
   "nbconvert_exporter": "python",
   "pygments_lexer": "ipython3",
   "version": "3.12.4"
  }
 },
 "nbformat": 4,
 "nbformat_minor": 5
}
